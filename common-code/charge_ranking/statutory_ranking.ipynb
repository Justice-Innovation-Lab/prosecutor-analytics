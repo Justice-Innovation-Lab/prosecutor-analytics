{
 "cells": [
  {
   "attachments": {},
   "cell_type": "markdown",
   "metadata": {},
   "source": [
    "The purpose of this notebook is to provide an example application of the statutory ranking algorithm.<br>\n",
    "Data in this folder is from South Carolina (originally downloaded from [sccourts.org](https://www.sccourts.org/cdr/))"
   ]
  },
  {
   "cell_type": "code",
   "execution_count": null,
   "metadata": {},
   "outputs": [],
   "source": [
    "# Import libraries\n",
    "import pandas as pd\n",
    "\n",
    "# CONSTANTS\n",
    "INSERT_INDEX = 7\n",
    "NUM_DISPLAY_FEATURES = 12\n",
    "\n",
    "\n",
    "# Read SC CDR list\n",
    "cdrs = pd.read_csv(\"sc_cdrs_2021.csv\")"
   ]
  },
  {
   "attachments": {},
   "cell_type": "markdown",
   "metadata": {},
   "source": [
    "Data exploration"
   ]
  },
  {
   "cell_type": "code",
   "execution_count": null,
   "metadata": {},
   "outputs": [],
   "source": [
    "print(f\"Number of CDRs & features available: {cdrs.shape}\")"
   ]
  },
  {
   "cell_type": "code",
   "execution_count": null,
   "metadata": {},
   "outputs": [],
   "source": [
    "cols_to_review = list(cdrs.columns[:NUM_DISPLAY_FEATURES])\n",
    "\n",
    "cdrs[cols_to_review].head()"
   ]
  },
  {
   "attachments": {},
   "cell_type": "markdown",
   "metadata": {},
   "source": [
    "Create a boolean for whether the offense is a capital offense & associated rank"
   ]
  },
  {
   "cell_type": "code",
   "execution_count": null,
   "metadata": {},
   "outputs": [],
   "source": [
    "cdrs.insert(\n",
    "    INSERT_INDEX,\n",
    "    \"capital_offense\",\n",
    "    (\n",
    "        (cdrs.RangeOfPunishment.str.contains(\"DEATH\", case=False, na=False)  # Where death is a possible punishment\n",
    "        & ((cdrs.max_time_days>0) | (cdrs.min_time_days>0)))  # Where the punishment is unambiguous (c.f. CDR 3304)\n",
    "    )\n",
    ")\n",
    "\n",
    "INSERT_INDEX += 1\n",
    "cdrs.insert(INSERT_INDEX, \"capital_rank\", 2)  # Default capital_offense rank (since most are not capital offenses)\n",
    "cdrs[\"capital_rank\"].mask(cdrs[\"capital_offense\"], 1, inplace=True)\n",
    "NUM_DISPLAY_FEATURES += 2  # +2 for capital_offense & capital_rank features\n",
    "\n",
    "all_features_df = cdrs.copy()"
   ]
  },
  {
   "attachments": {},
   "cell_type": "markdown",
   "metadata": {},
   "source": [
    "## Create individual rankings per feature"
   ]
  },
  {
   "cell_type": "code",
   "execution_count": null,
   "metadata": {},
   "outputs": [],
   "source": [
    "def create_rank_feature(df_, base_feat, new_feat, insert_index):\n",
    "    \"\"\"\n",
    "    Inserts a new \"rank\" feature into a dataframe using a passed index\n",
    "    :param df_: DataFrame\n",
    "    :param base_feat: str\n",
    "    :param new_feat: str\n",
    "    :param insert_index: int\n",
    "    :returns df_: DataFrame\n",
    "    \"\"\"\n",
    "\n",
    "    # Rank the base features in descending order to put the highest values first\n",
    "    df_.insert(insert_index, new_feat, df_[base_feat].rank(method=\"min\", ascending=False))\n",
    "    # Fill any missing ranks with a rank well above the current maximum\n",
    "    df_[new_feat].mask(df_[base_feat].isna(), df_[new_feat].max()+1000, inplace=True)\n",
    "    # Reset all ranks to int\n",
    "    df_[new_feat] = df_[new_feat].astype(int)\n",
    "\n",
    "    return df_"
   ]
  },
  {
   "cell_type": "code",
   "execution_count": null,
   "metadata": {},
   "outputs": [],
   "source": [
    "# NOTE: \"capital_rank\" computed using booleans (c.f. numeric)\n",
    "ranking_features = [\"max_time_days\", \"min_time_days\", \"max_fine\", \"min_fine\"]\n",
    "for i, feat in enumerate(ranking_features):\n",
    "    INSERT_INDEX += 2  # Insert rank to the right of base feature\n",
    "    new_feat = f\"{feat}_rank\"\n",
    "    all_features_df = create_rank_feature(all_features_df, feat, new_feat, INSERT_INDEX)\n",
    "    NUM_DISPLAY_FEATURES += 1  # Show the rank feature as well\n",
    "\n",
    "cols_to_review = list(all_features_df.columns[:NUM_DISPLAY_FEATURES])"
   ]
  },
  {
   "cell_type": "code",
   "execution_count": null,
   "metadata": {},
   "outputs": [],
   "source": [
    "pd.set_option('display.max_columns', None)\n",
    "all_features_df.head()"
   ]
  },
  {
   "attachments": {},
   "cell_type": "markdown",
   "metadata": {},
   "source": [
    "## Create combined ranking\n",
    "NOTE: Can't just concat all numeric features as str because (e.g.) str(1180) < str(4)"
   ]
  },
  {
   "cell_type": "code",
   "execution_count": null,
   "metadata": {},
   "outputs": [],
   "source": [
    "combo_df = all_features_df[cols_to_review].sort_values(by=[\"capital_rank\", \"max_time_days_rank\", \"min_time_days_rank\", \"max_fine_rank\", \"min_fine_rank\"])\n",
    "\n",
    "# Create boolean of where the above row is identical to row\n",
    "combo_df[\"dup_ranks\"] = (\n",
    "    combo_df[[\"capital_rank\", \"max_time_days_rank\", \"min_time_days_rank\", \"max_fine_rank\", \"min_fine_rank\"]] == combo_df[[\"capital_rank\", \"max_time_days_rank\", \"min_time_days_rank\", \"max_fine_rank\", \"min_fine_rank\"]].shift(1, axis=\"index\")\n",
    ").all(axis=\"columns\")"
   ]
  },
  {
   "cell_type": "code",
   "execution_count": null,
   "metadata": {},
   "outputs": [],
   "source": [
    "def add_oa_rank(df_, dup_feat=\"dup_ranks\"):\n",
    "    \"\"\"\n",
    "    Creates a new feature of the \"overall\" rank (i.e. \"oa_rank\").\n",
    "    Takes a dataframe with a feature indicating a duplicate rank\n",
    "      and assigns the same rank value to all identical rows.\n",
    "    :param df_:DataFrame\n",
    "    :param dup_feat:str\n",
    "    :return df_:DataFrame\n",
    "    \"\"\"\n",
    "    num_uniq_groups = len(df_.loc[~df_[dup_feat]])\n",
    "    \n",
    "    df_['oa_rank'] = 3\n",
    "    df_['oa_rank'].mask(~df_[dup_feat], range(1, num_uniq_groups+1), inplace=True)\n",
    "    df_['oa_rank'].mask(df_[dup_feat], pd.NA, inplace=True)\n",
    "    df_['oa_rank'] = df_['oa_rank'].ffill().astype(int)\n",
    "\n",
    "    return df_"
   ]
  },
  {
   "cell_type": "code",
   "execution_count": null,
   "metadata": {},
   "outputs": [],
   "source": [
    "combo_oa_df = add_oa_rank(combo_df)\n",
    "combo_oa_df[\"num_in_stat_exposure_group\"] = combo_oa_df.groupby(\"oa_rank\")[\"CDRCode\"].transform(\"count\")"
   ]
  },
  {
   "cell_type": "code",
   "execution_count": null,
   "metadata": {},
   "outputs": [],
   "source": [
    "# Final ranking\n",
    "final_df = combo_oa_df[[\"oa_rank\", \"num_in_stat_exposure_group\"] + cols_to_review].sort_values(by=[\"oa_rank\"])\n",
    "final_df.head(6)  # Uncomment to show the first 6 rows\n",
    "# final_df.to_csv(\"ranked_charges.csv\")  # Uncomment to write the final DataFrame to a comma-separated file"
   ]
  },
  {
   "cell_type": "code",
   "execution_count": null,
   "metadata": {},
   "outputs": [],
   "source": [
    "# What are the statutory exposure groups with the most charges?\n",
    "combo_oa_df.oa_rank.value_counts()[:5]"
   ]
  },
  {
   "attachments": {},
   "cell_type": "markdown",
   "metadata": {},
   "source": [
    "# Appendix: Step-by-step application of sorting"
   ]
  },
  {
   "attachments": {},
   "cell_type": "markdown",
   "metadata": {},
   "source": [
    "### Rank by capital punishment eligibility"
   ]
  },
  {
   "cell_type": "code",
   "execution_count": null,
   "metadata": {},
   "outputs": [],
   "source": [
    "step1 = cdrs.sort_values(by=\"capital_rank\")"
   ]
  },
  {
   "cell_type": "code",
   "execution_count": null,
   "metadata": {},
   "outputs": [],
   "source": [
    "INSERT_INDEX = 10\n",
    "NUM_DISPLAY_FEATURES = 14\n",
    "cols_to_review = list(step1.columns[:NUM_DISPLAY_FEATURES])\n",
    "\n",
    "step1[cols_to_review].head()"
   ]
  },
  {
   "attachments": {},
   "cell_type": "markdown",
   "metadata": {},
   "source": [
    "### Rank by maximum carceral sentence"
   ]
  },
  {
   "cell_type": "code",
   "execution_count": null,
   "metadata": {},
   "outputs": [],
   "source": [
    "step1.insert(INSERT_INDEX, \"max_time_rank\", step1.max_time_days.rank(method=\"min\", ascending=False))\n",
    "INSERT_INDEX += 2  # insert past the new rank & next base feature\n",
    "NUM_DISPLAY_FEATURES += 1  # +1 for max_time_rank\n",
    "cols_to_review = list(step1.columns[:NUM_DISPLAY_FEATURES])\n",
    "step1[\"max_time_rank\"].mask(step1[\"max_time_days\"].isna(), step1[\"max_time_rank\"].max()+1000, inplace=True)"
   ]
  },
  {
   "cell_type": "code",
   "execution_count": null,
   "metadata": {},
   "outputs": [],
   "source": [
    "step2 = step1.sort_values(by=[\"capital_rank\", \"max_time_rank\"], ascending=[True, True])\n",
    "step2[\"max_time_rank\"] = step2[\"max_time_rank\"].astype(int)\n",
    "\n",
    "step2[cols_to_review].head(20)"
   ]
  },
  {
   "attachments": {},
   "cell_type": "markdown",
   "metadata": {},
   "source": [
    "### Rank by minimum carceral sentence"
   ]
  },
  {
   "cell_type": "code",
   "execution_count": null,
   "metadata": {},
   "outputs": [],
   "source": [
    "step2.insert(INSERT_INDEX, \"min_time_rank\", step1.min_time_days.rank(method=\"min\", ascending=False))\n",
    "INSERT_INDEX += 2  # insert past the new rank & next base feature\n",
    "NUM_DISPLAY_FEATURES += 1  # +1 for added rank feature\n",
    "cols_to_review = list(step2.columns[:NUM_DISPLAY_FEATURES])\n",
    "step2[\"min_time_rank\"].mask(step2[\"min_time_days\"].isna(), step2[\"min_time_rank\"].max()+1000, inplace=True)"
   ]
  },
  {
   "cell_type": "code",
   "execution_count": null,
   "metadata": {},
   "outputs": [],
   "source": [
    "step3 = step2.sort_values(by=[\"capital_rank\", \"max_time_rank\", \"min_time_rank\"], ascending=[True, True, True])\n",
    "step3[\"min_time_rank\"] = step3[\"min_time_rank\"].astype(int)\n",
    "\n",
    "step3[cols_to_review].head()"
   ]
  },
  {
   "attachments": {},
   "cell_type": "markdown",
   "metadata": {},
   "source": [
    "### Rank by maximum fine"
   ]
  },
  {
   "cell_type": "code",
   "execution_count": null,
   "metadata": {},
   "outputs": [],
   "source": [
    "INSERT_INDEX += 1  # One-time move forward past \"conjuct\" feature\n",
    "step4 = create_rank_feature(step3, \"max_fine\", \"max_fine_rank\", INSERT_INDEX)\n",
    "INSERT_INDEX += 2"
   ]
  },
  {
   "cell_type": "code",
   "execution_count": null,
   "metadata": {},
   "outputs": [],
   "source": [
    "NUM_DISPLAY_FEATURES += 1  # +1 for added rank feature\n",
    "cols_to_review = list(step4.columns[:NUM_DISPLAY_FEATURES])\n",
    "step4[cols_to_review][140:150].sort_values(by=[\"capital_rank\", \"max_time_rank\", \"min_time_rank\", \"max_fine_rank\"])"
   ]
  },
  {
   "attachments": {},
   "cell_type": "markdown",
   "metadata": {},
   "source": [
    "### Rank by minimum fine"
   ]
  },
  {
   "cell_type": "code",
   "execution_count": null,
   "metadata": {},
   "outputs": [],
   "source": [
    "step5 = create_rank_feature(step4, \"min_fine\", \"min_fine_rank\", INSERT_INDEX)\n",
    "NUM_DISPLAY_FEATURES += 1  # +1 for added rank feature\n",
    "cols_to_review = list(step5.columns[:NUM_DISPLAY_FEATURES])"
   ]
  },
  {
   "cell_type": "code",
   "execution_count": null,
   "metadata": {},
   "outputs": [],
   "source": [
    "step5[cols_to_review][140:150].sort_values(by=[\"capital_rank\", \"max_time_rank\", \"min_time_rank\", \"max_fine_rank\", \"min_fine_rank\"])"
   ]
  },
  {
   "cell_type": "code",
   "execution_count": null,
   "metadata": {},
   "outputs": [],
   "source": []
  }
 ],
 "metadata": {
  "kernelspec": {
   "display_name": "sol9-analyses",
   "language": "python",
   "name": "python3"
  },
  "language_info": {
   "codemirror_mode": {
    "name": "ipython",
    "version": 3
   },
   "file_extension": ".py",
   "mimetype": "text/x-python",
   "name": "python",
   "nbconvert_exporter": "python",
   "pygments_lexer": "ipython3",
   "version": "3.10.4"
  }
 },
 "nbformat": 4,
 "nbformat_minor": 2
}
